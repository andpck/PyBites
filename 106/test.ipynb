{
 "cells": [
  {
   "cell_type": "code",
   "execution_count": 16,
   "metadata": {},
   "outputs": [],
   "source": [
    "import re as re"
   ]
  },
  {
   "cell_type": "code",
   "execution_count": 32,
   "metadata": {},
   "outputs": [
    {
     "data": {
      "text/plain": [
       "221"
      ]
     },
     "execution_count": 32,
     "metadata": {},
     "output_type": "execute_result"
    }
   ],
   "source": [
    "text = \"\"\"\n",
    "The Zen of Python, by Tim Peters\n",
    "\n",
    "Beautiful is better than ugly.\n",
    "Explicit is better than implicit.\n",
    "Simple is better than complex.\n",
    "Complex is better than complicated.\n",
    "Flat is better than nested.\n",
    "Sparse is better than dense.\n",
    "Readability counts.\n",
    "Special cases aren't special enough to break the rules.\n",
    "Although practicality beats purity.\n",
    "Errors should never pass silently.\n",
    "Unless explicitly silenced.\n",
    "In the face of ambiguity, refuse the temptation to guess.\n",
    "There should be one-- and preferably only one --obvious way to do it.\n",
    "Although that way may not be obvious at first unless you're Dutch.\n",
    "Now is better than never.\n",
    "Although never is often better than *right* now.\n",
    "If the implementation is hard to explain, it's a bad idea.\n",
    "If the implementation is easy to explain, it may be a good idea.\n",
    "Namespaces are one honking great idea -- let's do more of those!\n",
    "\"\"\"\n",
    "vowels = 'aeiou'\n",
    "#pattern = f\"([{vowels}]+)\"\n",
    "pattern = r\"([aeiou]+)\"\n",
    "#pattern = r\"(a)|(e)|(i)|(o)|(u)\"\n",
    "\n",
    "text_list = list(text)\n",
    "\n",
    "len(re.findall(r\"([aeiou]+)\", text))"
   ]
  },
  {
   "cell_type": "code",
   "execution_count": 33,
   "metadata": {},
   "outputs": [
    {
     "data": {
      "text/plain": [
       "221"
      ]
     },
     "execution_count": 33,
     "metadata": {},
     "output_type": "execute_result"
    }
   ],
   "source": [
    "len(re.findall(r\"([aeiou]+)\", text))"
   ]
  },
  {
   "cell_type": "code",
   "execution_count": 36,
   "metadata": {},
   "outputs": [
    {
     "data": {
      "text/plain": [
       "\"\\nTh* Z*n *f Pyth*n, by T*m P*t*rs\\n\\nB***t*f*l *s b*tt*r th*n *gly.\\nExpl*c*t *s b*tt*r th*n *mpl*c*t.\\nS*mpl* *s b*tt*r th*n c*mpl*x.\\nC*mpl*x *s b*tt*r th*n c*mpl*c*t*d.\\nFl*t *s b*tt*r th*n n*st*d.\\nSp*rs* *s b*tt*r th*n d*ns*.\\nR**d*b*l*ty c**nts.\\nSp*c**l c*s*s *r*n't sp*c**l *n**gh t* br**k th* r*l*s.\\nAlth**gh pr*ct*c*l*ty b**ts p*r*ty.\\nErr*rs sh**ld n*v*r p*ss s*l*ntly.\\nUnl*ss *xpl*c*tly s*l*nc*d.\\nIn th* f*c* *f *mb*g**ty, r*f*s* th* t*mpt*t**n t* g**ss.\\nTh*r* sh**ld b* *n*-- *nd pr*f*r*bly *nly *n* --*bv***s w*y t* d* *t.\\nAlth**gh th*t w*y m*y n*t b* *bv***s *t f*rst *nl*ss y**'r* D*tch.\\nN*w *s b*tt*r th*n n*v*r.\\nAlth**gh n*v*r *s *ft*n b*tt*r th*n *r*ght* n*w.\\nIf th* *mpl*m*nt*t**n *s h*rd t* *xpl**n, *t's * b*d *d**.\\nIf th* *mpl*m*nt*t**n *s **sy t* *xpl**n, *t m*y b* * g**d *d**.\\nN*m*sp*c*s *r* *n* h*nk*ng gr**t *d** -- l*t's d* m*r* *f th*s*!\\n\""
      ]
     },
     "execution_count": 36,
     "metadata": {},
     "output_type": "execute_result"
    }
   ],
   "source": [
    "re.subn(r\"(a)|(e)|(i)|(o)|(u)\",'*', text)[0]"
   ]
  },
  {
   "cell_type": "code",
   "execution_count": 14,
   "metadata": {},
   "outputs": [
    {
     "data": {
      "text/plain": [
       "str"
      ]
     },
     "execution_count": 14,
     "metadata": {},
     "output_type": "execute_result"
    }
   ],
   "source": [
    "type(text)"
   ]
  },
  {
   "cell_type": "code",
   "execution_count": 12,
   "metadata": {},
   "outputs": [
    {
     "data": {
      "text/plain": [
       "'*'"
      ]
     },
     "execution_count": 12,
     "metadata": {},
     "output_type": "execute_result"
    }
   ],
   "source": [
    "text_list[3].replace('e','*')"
   ]
  },
  {
   "cell_type": "code",
   "execution_count": 6,
   "metadata": {},
   "outputs": [
    {
     "ename": "AttributeError",
     "evalue": "'list' object has no attribute 'replace'",
     "output_type": "error",
     "traceback": [
      "\u001b[1;31m---------------------------------------------------------------------------\u001b[0m",
      "\u001b[1;31mAttributeError\u001b[0m                            Traceback (most recent call last)",
      "\u001b[1;32mC:\\Users\\ANDREA~1\\AppData\\Local\\Temp/ipykernel_14492/1732977299.py\u001b[0m in \u001b[0;36m<module>\u001b[1;34m\u001b[0m\n\u001b[1;32m----> 1\u001b[1;33m \u001b[0moutput\u001b[0m \u001b[1;33m=\u001b[0m \u001b[0mtext_list\u001b[0m\u001b[1;33m.\u001b[0m\u001b[0mreplace\u001b[0m\u001b[1;33m(\u001b[0m\u001b[0mvowels\u001b[0m\u001b[1;33m,\u001b[0m\u001b[1;34m'*'\u001b[0m\u001b[1;33m)\u001b[0m\u001b[1;33m\u001b[0m\u001b[1;33m\u001b[0m\u001b[0m\n\u001b[0m",
      "\u001b[1;31mAttributeError\u001b[0m: 'list' object has no attribute 'replace'"
     ]
    }
   ],
   "source": [
    "output=[]\n",
    "for char in text_list:\n",
    "    if \n",
    "    output[char] = text_list[char].replace(vowels,'*')"
   ]
  },
  {
   "cell_type": "code",
   "execution_count": 5,
   "metadata": {},
   "outputs": [
    {
     "data": {
      "text/plain": [
       "\"\\nThe Zen of Python, by Tim Peters\\n\\nBeautiful is better than ugly.\\nExplicit is better than implicit.\\nSimple is better than complex.\\nComplex is better than complicated.\\nFlat is better than nested.\\nSparse is better than dense.\\nReadability counts.\\nSpecial cases aren't special enough to break the rules.\\nAlthough practicality beats purity.\\nErrors should never pass silently.\\nUnless explicitly silenced.\\nIn the face of ambiguity, refuse the temptation to guess.\\nThere should be one-- and preferably only one --obvious way to do it.\\nAlthough that way may not be obvious at first unless you're Dutch.\\nNow is better than never.\\nAlthough never is often better than *right* now.\\nIf the implementation is hard to explain, it's a bad idea.\\nIf the implementation is easy to explain, it may be a good idea.\\nNamespaces are one honking great idea -- let's do more of those!\\n\""
      ]
     },
     "execution_count": 5,
     "metadata": {},
     "output_type": "execute_result"
    }
   ],
   "source": [
    "output"
   ]
  }
 ],
 "metadata": {
  "interpreter": {
   "hash": "7d7ff82c860505671fa42679eca2bd777356f95334fb2731ee20e4f8dab29cdc"
  },
  "kernelspec": {
   "display_name": "Python 3.8.8 64-bit ('development': conda)",
   "language": "python",
   "name": "python3"
  },
  "language_info": {
   "codemirror_mode": {
    "name": "ipython",
    "version": 3
   },
   "file_extension": ".py",
   "mimetype": "text/x-python",
   "name": "python",
   "nbconvert_exporter": "python",
   "pygments_lexer": "ipython3",
   "version": "3.8.2"
  },
  "orig_nbformat": 2
 },
 "nbformat": 4,
 "nbformat_minor": 2
}
